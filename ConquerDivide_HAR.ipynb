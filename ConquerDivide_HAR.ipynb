{
 "cells": [
  {
   "cell_type": "code",
   "execution_count": 1,
   "metadata": {
    "colab": {
     "base_uri": "https://localhost:8080/",
     "height": 34
    },
    "colab_type": "code",
    "id": "stf5T1ID9HMP",
    "outputId": "7383140a-1aa1-449b-f454-22324efbb7ff"
   },
   "outputs": [
    {
     "name": "stderr",
     "output_type": "stream",
     "text": [
      "Using TensorFlow backend.\n"
     ]
    }
   ],
   "source": [
    "import warnings \n",
    "warnings.filterwarnings('ignore')\n",
    "import pandas as pd\n",
    "from sklearn.model_selection import train_test_split\n",
    "from tqdm import tqdm\n",
    "\n",
    "from keras.preprocessing import sequence\n",
    "from keras.models import Sequential\n",
    "from keras.layers import Dense,Dropout,CuDNNLSTM,BatchNormalization\n",
    "from keras.layers import Conv1D,MaxPooling1D,Flatten\n",
    "from keras.layers.embeddings import Embedding\n",
    "import numpy as np"
   ]
  },
  {
   "cell_type": "code",
   "execution_count": 2,
   "metadata": {
    "colab": {
     "base_uri": "https://localhost:8080/",
     "height": 34
    },
    "colab_type": "code",
    "id": "Xwve5jBPP0za",
    "outputId": "1b1005f0-ae97-4b66-f18d-12616e2bbe55"
   },
   "outputs": [
    {
     "name": "stdout",
     "output_type": "stream",
     "text": [
      "Drive already mounted at /content/drive; to attempt to forcibly remount, call drive.mount(\"/content/drive\", force_remount=True).\n"
     ]
    }
   ],
   "source": [
    "# Load the Drive helper and mount\n",
    "from google.colab import drive\n",
    "\n",
    "# This will prompt for authorization.\n",
    "drive.mount('/content/drive')"
   ]
  },
  {
   "cell_type": "markdown",
   "metadata": {
    "colab_type": "text",
    "id": "Ldi8ORcpP5NH"
   },
   "source": [
    "## Load the Signals (Input Data)\n"
   ]
  },
  {
   "cell_type": "code",
   "execution_count": 0,
   "metadata": {
    "colab": {},
    "colab_type": "code",
    "id": "pp0PF-8sQKMc"
   },
   "outputs": [],
   "source": [
    "import io\n",
    "import os\n",
    "\n",
    "def load_data(incoming):\n",
    "  path=\"drive/My Drive/Data/Human_activity_recognition\" +'/'+ incoming\n",
    "  print(path)\n",
    "  files=os.listdir(path)\n",
    "  print(files)\n",
    "  signals_data = []\n",
    "\n",
    "  for file in files:\n",
    "    filename=path+'/'+file\n",
    "    df=pd.read_csv(filename, delim_whitespace=True, header=None)\n",
    "    df=(df-df.mean())/(df.max()-df.min())\n",
    "    signals_data.append(df.as_matrix())\n",
    "    \n",
    "  # Transpose is used to change the dimensionality of the output,\n",
    "  # aggregating the signals by combination of sample/timestep.\n",
    "  # Resultant shape is (7352 train/2947 test samples, 128 timesteps, 9 signals)\n",
    "  return np.transpose(signals_data, (1, 2, 0)) "
   ]
  },
  {
   "cell_type": "code",
   "execution_count": 4,
   "metadata": {
    "colab": {
     "base_uri": "https://localhost:8080/",
     "height": 139
    },
    "colab_type": "code",
    "id": "C96Fk1D39W13",
    "outputId": "032cf559-baf2-41d0-9e3c-a05ff6668eac"
   },
   "outputs": [
    {
     "name": "stdout",
     "output_type": "stream",
     "text": [
      "drive/My Drive/Data/Human_activity_recognition/Train\n",
      "['body_acc_x_train.txt', 'body_acc_y_train.txt', 'body_acc_z_train.txt', 'body_gyro_x_train.txt', 'body_gyro_y_train.txt', 'body_gyro_z_train.txt', 'total_acc_x_train.txt', 'total_acc_y_train.txt', 'total_acc_z_train.txt']\n",
      "drive/My Drive/Data/Human_activity_recognition/Test\n",
      "['body_acc_x_test.txt', 'body_acc_y_test.txt', 'body_acc_z_test.txt', 'body_gyro_x_test.txt', 'body_gyro_y_test.txt', 'body_gyro_z_test.txt', 'total_acc_x_test.txt', 'total_acc_y_test.txt', 'total_acc_z_test.txt']\n",
      "(7352, 128, 9)\n",
      "(2947, 128, 9)\n"
     ]
    }
   ],
   "source": [
    "X_train = load_data('Train')\n",
    "X_test = load_data('Test')\n",
    "print(X_train.shape)\n",
    "print(X_test.shape)"
   ]
  },
  {
   "cell_type": "markdown",
   "metadata": {
    "colab_type": "text",
    "id": "QIH4YF43GI3F"
   },
   "source": [
    "### Fucntion for Confusion Matrix"
   ]
  },
  {
   "cell_type": "code",
   "execution_count": 0,
   "metadata": {
    "colab": {},
    "colab_type": "code",
    "id": "JQv6ulQ-GQdM"
   },
   "outputs": [],
   "source": [
    "import itertools\n",
    "import numpy as np\n",
    "import matplotlib.pyplot as plt\n",
    "from sklearn.metrics import confusion_matrix\n",
    "\n",
    "def plot_confusion_matrix(cm, classes,\n",
    "                          normalize=False,\n",
    "                          title='Confusion matrix',\n",
    "                          cmap=plt.cm.Blues):\n",
    "    if normalize:\n",
    "        cm = cm.astype('float') / cm.sum(axis=1)[:, np.newaxis]\n",
    "\n",
    "    plt.imshow(cm, interpolation='nearest', cmap=cmap)\n",
    "    plt.title(title)\n",
    "    plt.colorbar()\n",
    "    tick_marks = np.arange(len(classes))\n",
    "    plt.xticks(tick_marks, classes, rotation=90)\n",
    "    plt.yticks(tick_marks, classes)\n",
    "\n",
    "    fmt = '.2f' if normalize else 'd'\n",
    "    thresh = cm.max() / 2.\n",
    "    for i, j in itertools.product(range(cm.shape[0]), range(cm.shape[1])):\n",
    "        plt.text(j, i, format(cm[i, j], fmt),\n",
    "                 horizontalalignment=\"center\",\n",
    "                 color=\"white\" if cm[i, j] > thresh else \"black\")\n",
    "\n",
    "    plt.tight_layout()\n",
    "    plt.ylabel('True label')\n",
    "    plt.xlabel('Predicted label')\n",
    "    \n",
    "\n",
    "# Utility function to print the confusion matrix\n",
    "def confusion_matrix_cnn(Y_true, Y_pred,activities):\n",
    "    Y_true = pd.Series([activities[y] for y in np.argmax(Y_true, axis=1)])\n",
    "    Y_pred = pd.Series([activities[y] for y in np.argmax(Y_pred, axis=1)])\n",
    "\n",
    "    #return pd.crosstab(Y_true, Y_pred, rownames=['True'], colnames=['Pred'])\n",
    "    return confusion_matrix(Y_true, Y_pred)"
   ]
  },
  {
   "cell_type": "markdown",
   "metadata": {
    "colab_type": "text",
    "id": "KZcopzTr9ZBe"
   },
   "source": [
    " ## Loading the outputs"
   ]
  },
  {
   "cell_type": "code",
   "execution_count": 0,
   "metadata": {
    "colab": {},
    "colab_type": "code",
    "id": "zmFFd3dV9dRw"
   },
   "outputs": [],
   "source": [
    "def load_op(incoming):\n",
    "  \"\"\"\n",
    "    The objective that we are trying to predict is a integer, from 1 to 6,\n",
    "    that represents a human activity. We return a binary representation of \n",
    "    every sample objective as a 6 bits vector using One Hot Encoding\n",
    "    (https://pandas.pydata.org/pandas-docs/stable/generated/pandas.get_dummies.html)\n",
    "    \"\"\"\n",
    "  path=\"drive/My Drive/Data/Human_activity_recognition\" +'/'+ incoming +'.txt'\n",
    "  \n",
    "  df=pd.read_csv(path, delim_whitespace=True, header=None)[0]\n",
    "  \n",
    "  return df"
   ]
  },
  {
   "cell_type": "code",
   "execution_count": 7,
   "metadata": {
    "colab": {
     "base_uri": "https://localhost:8080/",
     "height": 51
    },
    "colab_type": "code",
    "id": "cpjTuj7x9fEt",
    "outputId": "0ac96d83-430c-4b3d-f83f-00615dd3574c"
   },
   "outputs": [
    {
     "name": "stdout",
     "output_type": "stream",
     "text": [
      "(7352,)\n",
      "(2947,)\n"
     ]
    }
   ],
   "source": [
    "y_train=load_op('y_train')\n",
    "y_test=load_op('y_test')\n",
    "print(y_train.shape)\n",
    "print(y_test.shape)"
   ]
  },
  {
   "cell_type": "markdown",
   "metadata": {
    "colab_type": "text",
    "id": "RokpWzLcyag2"
   },
   "source": [
    "## Loading the Output labels by spliting into Static and Dynamic \n",
    "\n",
    "\n",
    "1.  walking, up, down -- dynamic\n",
    "2.   sitting standing lying -- static \n",
    "\n"
   ]
  },
  {
   "cell_type": "code",
   "execution_count": 0,
   "metadata": {
    "colab": {},
    "colab_type": "code",
    "id": "1n6iKbQWUSy3"
   },
   "outputs": [],
   "source": [
    "def load_op_2(incoming):\n",
    "  \"\"\"\n",
    "    The objective that we are trying to predict is a integer, from 1 to 6,\n",
    "    that represents a human activity. We return a binary representation of \n",
    "    every sample objective as a 6 bits vector using One Hot Encoding\n",
    "    (https://pandas.pydata.org/pandas-docs/stable/generated/pandas.get_dummies.html)\n",
    "    \"\"\"\n",
    "  path=\"drive/My Drive/Data/Human_activity_recognition\" +'/'+ incoming +'.txt'\n",
    "  \n",
    "  df=pd.read_csv(path, delim_whitespace=True, header=None)[0]\n",
    "  df[df<=3] = 0\n",
    "  df[df>3] = 1\n",
    "  return pd.get_dummies(df).as_matrix()"
   ]
  },
  {
   "cell_type": "code",
   "execution_count": 9,
   "metadata": {
    "colab": {
     "base_uri": "https://localhost:8080/",
     "height": 51
    },
    "colab_type": "code",
    "id": "72f-1DyYy0A4",
    "outputId": "66894754-5ac9-443e-d599-85b70ac96323"
   },
   "outputs": [
    {
     "name": "stdout",
     "output_type": "stream",
     "text": [
      "(7352, 2)\n",
      "(2947, 2)\n"
     ]
    }
   ],
   "source": [
    "y_train_2=load_op_2('y_train')\n",
    "y_test_2=load_op_2('y_test')\n",
    "print(y_train_2.shape)\n",
    "print(y_test_2.shape)"
   ]
  },
  {
   "cell_type": "markdown",
   "metadata": {
    "colab_type": "text",
    "id": "FqYLCV38zrVv"
   },
   "source": [
    "## Model for classifying data into Static and Dynamic activities"
   ]
  },
  {
   "cell_type": "code",
   "execution_count": 10,
   "metadata": {
    "colab": {
     "base_uri": "https://localhost:8080/",
     "height": 785
    },
    "colab_type": "code",
    "id": "cj9WtMDczwWf",
    "outputId": "079a6a94-f542-4e93-f647-c3101a1cddbe"
   },
   "outputs": [
    {
     "name": "stderr",
     "output_type": "stream",
     "text": [
      "WARNING: Logging before flag parsing goes to stderr.\n",
      "W0701 06:19:06.045631 139820246591360 deprecation_wrapper.py:119] From /usr/local/lib/python3.6/dist-packages/keras/backend/tensorflow_backend.py:74: The name tf.get_default_graph is deprecated. Please use tf.compat.v1.get_default_graph instead.\n",
      "\n",
      "W0701 06:19:06.062525 139820246591360 deprecation_wrapper.py:119] From /usr/local/lib/python3.6/dist-packages/keras/backend/tensorflow_backend.py:517: The name tf.placeholder is deprecated. Please use tf.compat.v1.placeholder instead.\n",
      "\n",
      "W0701 06:19:06.065220 139820246591360 deprecation_wrapper.py:119] From /usr/local/lib/python3.6/dist-packages/keras/backend/tensorflow_backend.py:4138: The name tf.random_uniform is deprecated. Please use tf.random.uniform instead.\n",
      "\n",
      "W0701 06:19:06.103579 139820246591360 deprecation_wrapper.py:119] From /usr/local/lib/python3.6/dist-packages/keras/backend/tensorflow_backend.py:133: The name tf.placeholder_with_default is deprecated. Please use tf.compat.v1.placeholder_with_default instead.\n",
      "\n",
      "W0701 06:19:06.114201 139820246591360 deprecation.py:506] From /usr/local/lib/python3.6/dist-packages/keras/backend/tensorflow_backend.py:3445: calling dropout (from tensorflow.python.ops.nn_ops) with keep_prob is deprecated and will be removed in a future version.\n",
      "Instructions for updating:\n",
      "Please use `rate` instead of `keep_prob`. Rate should be set to `rate = 1 - keep_prob`.\n",
      "W0701 06:19:06.115281 139820246591360 nn_ops.py:4224] Large dropout rate: 0.6 (>0.5). In TensorFlow 2.x, dropout() uses dropout rate instead of keep_prob. Please ensure that this is intended.\n",
      "W0701 06:19:06.136620 139820246591360 deprecation_wrapper.py:119] From /usr/local/lib/python3.6/dist-packages/keras/backend/tensorflow_backend.py:3976: The name tf.nn.max_pool is deprecated. Please use tf.nn.max_pool2d instead.\n",
      "\n",
      "W0701 06:19:06.173886 139820246591360 deprecation_wrapper.py:119] From /usr/local/lib/python3.6/dist-packages/keras/optimizers.py:790: The name tf.train.Optimizer is deprecated. Please use tf.compat.v1.train.Optimizer instead.\n",
      "\n",
      "W0701 06:19:06.198083 139820246591360 deprecation_wrapper.py:119] From /usr/local/lib/python3.6/dist-packages/keras/backend/tensorflow_backend.py:3295: The name tf.log is deprecated. Please use tf.math.log instead.\n",
      "\n",
      "W0701 06:19:06.299047 139820246591360 deprecation.py:323] From /usr/local/lib/python3.6/dist-packages/tensorflow/python/ops/math_grad.py:1250: add_dispatch_support.<locals>.wrapper (from tensorflow.python.ops.array_ops) is deprecated and will be removed in a future version.\n",
      "Instructions for updating:\n",
      "Use tf.where in 2.0, which has the same broadcast rule as np.where\n"
     ]
    },
    {
     "name": "stdout",
     "output_type": "stream",
     "text": [
      "Train on 7352 samples, validate on 2947 samples\n",
      "Epoch 1/10\n",
      "7352/7352 [==============================] - 5s 728us/step - loss: 0.0342 - acc: 0.9818 - val_loss: 0.1251 - val_acc: 0.9830\n",
      "Epoch 2/10\n",
      "7352/7352 [==============================] - 2s 315us/step - loss: 0.0054 - acc: 0.9978 - val_loss: 0.0116 - val_acc: 0.9969\n",
      "Epoch 3/10\n",
      "7352/7352 [==============================] - 2s 315us/step - loss: 1.0371e-04 - acc: 1.0000 - val_loss: 0.0097 - val_acc: 0.9969\n",
      "Epoch 4/10\n",
      "7352/7352 [==============================] - 2s 317us/step - loss: 4.8041e-05 - acc: 1.0000 - val_loss: 0.0107 - val_acc: 0.9969\n",
      "Epoch 5/10\n",
      "7352/7352 [==============================] - 2s 318us/step - loss: 2.8909e-05 - acc: 1.0000 - val_loss: 0.0116 - val_acc: 0.9966\n",
      "Epoch 6/10\n",
      "7352/7352 [==============================] - 2s 317us/step - loss: 5.4076e-05 - acc: 1.0000 - val_loss: 0.0152 - val_acc: 0.9963\n",
      "Epoch 7/10\n",
      "7352/7352 [==============================] - 2s 315us/step - loss: 1.0308e-05 - acc: 1.0000 - val_loss: 0.0118 - val_acc: 0.9969\n",
      "Epoch 8/10\n",
      "7352/7352 [==============================] - 2s 316us/step - loss: 4.4375e-06 - acc: 1.0000 - val_loss: 0.0121 - val_acc: 0.9969\n",
      "Epoch 9/10\n",
      "7352/7352 [==============================] - 2s 314us/step - loss: 1.2040e-05 - acc: 1.0000 - val_loss: 0.0186 - val_acc: 0.9963\n",
      "Epoch 10/10\n",
      "7352/7352 [==============================] - 2s 318us/step - loss: 5.2428e-06 - acc: 1.0000 - val_loss: 0.0093 - val_acc: 0.9983\n"
     ]
    },
    {
     "data": {
      "text/plain": [
       "<keras.callbacks.History at 0x7f2a1c9f7978>"
      ]
     },
     "execution_count": 10,
     "metadata": {
      "tags": []
     },
     "output_type": "execute_result"
    }
   ],
   "source": [
    "model = Sequential()\n",
    "model.add(Conv1D(filters=32, kernel_size=3, activation='relu',kernel_initializer='he_uniform',input_shape=(128,9)))\n",
    "model.add(Conv1D(filters=32, kernel_size=3, activation='relu',kernel_initializer='he_uniform'))\n",
    "model.add(Dropout(0.6))\n",
    "model.add(MaxPooling1D(pool_size=2))\n",
    "model.add(Flatten())\n",
    "model.add(Dense(50, activation='relu'))\n",
    "model.add(Dense(2, activation='softmax'))\n",
    "model.compile(loss='categorical_crossentropy', optimizer='adam', metrics=['accuracy'])\n",
    "model.fit(X_train,y_train_2, epochs=10, batch_size=16,validation_data=(X_test, y_test_2))"
   ]
  },
  {
   "cell_type": "markdown",
   "metadata": {
    "colab_type": "text",
    "id": "k23RYA0l0QEW"
   },
   "source": [
    "## Save the 2 class classification model "
   ]
  },
  {
   "cell_type": "code",
   "execution_count": 0,
   "metadata": {
    "colab": {},
    "colab_type": "code",
    "id": "Lzw4p2Qp0doc"
   },
   "outputs": [],
   "source": [
    "model.save('drive/My Drive/Data/Human_activity_recognition/model_2class.h5')"
   ]
  },
  {
   "cell_type": "markdown",
   "metadata": {
    "colab_type": "text",
    "id": "nP87LG0u0j3j"
   },
   "source": [
    "## Classificaton of Static activities"
   ]
  },
  {
   "cell_type": "code",
   "execution_count": 0,
   "metadata": {
    "colab": {},
    "colab_type": "code",
    "id": "PsmWpEH70tHZ"
   },
   "outputs": [],
   "source": [
    "def load_op_stat(incoming):\n",
    "  \"\"\"\n",
    "    The objective that we are trying to predict is a integer, from 1 to 6,\n",
    "    that represents a human activity. We return a binary representation of \n",
    "    every sample objective as a 6 bits vector using One Hot Encoding\n",
    "    (https://pandas.pydata.org/pandas-docs/stable/generated/pandas.get_dummies.html)\n",
    "    \"\"\"\n",
    "  path=\"drive/My Drive/Data/Human_activity_recognition\" +'/'+ incoming +'.txt'\n",
    "  \n",
    "  df=pd.read_csv(path, delim_whitespace=True, header=None)[0]\n",
    "  df_subset=df>3\n",
    "  df=df[df_subset]\n",
    "  return pd.get_dummies(df).as_matrix(),df_subset"
   ]
  },
  {
   "cell_type": "code",
   "execution_count": 13,
   "metadata": {
    "colab": {
     "base_uri": "https://localhost:8080/",
     "height": 85
    },
    "colab_type": "code",
    "id": "vLyPAIxo2RxP",
    "outputId": "8e237a6b-bca7-4275-9570-db6dcc07f7f9"
   },
   "outputs": [
    {
     "name": "stdout",
     "output_type": "stream",
     "text": [
      "(4067, 3)\n",
      "(1560, 3)\n",
      "(1560, 128, 9)\n",
      "(4067, 128, 9)\n"
     ]
    }
   ],
   "source": [
    "y_train_stat,x_train_size=load_op_stat('y_train')\n",
    "y_test_stat,x_test_size=load_op_stat('y_test')\n",
    "X_train_stat=X_train[x_train_size]\n",
    "X_test_stat=X_test[x_test_size]\n",
    "print(y_train_stat.shape)\n",
    "print(y_test_stat.shape)\n",
    "print(X_test_stat.shape)\n",
    "print(X_train_stat.shape)\n"
   ]
  },
  {
   "cell_type": "markdown",
   "metadata": {
    "colab_type": "text",
    "id": "D_0o7yTB_X4m"
   },
   "source": [
    "## Model for Static Activities "
   ]
  },
  {
   "cell_type": "code",
   "execution_count": 14,
   "metadata": {
    "colab": {
     "base_uri": "https://localhost:8080/",
     "height": 1000
    },
    "colab_type": "code",
    "id": "Koe8vdxt_n5n",
    "outputId": "9d9de4c1-d7ca-409f-c2e9-438367c60f6a"
   },
   "outputs": [
    {
     "name": "stderr",
     "output_type": "stream",
     "text": [
      "W0701 06:19:33.171852 139820246591360 nn_ops.py:4224] Large dropout rate: 0.6 (>0.5). In TensorFlow 2.x, dropout() uses dropout rate instead of keep_prob. Please ensure that this is intended.\n",
      "W0701 06:19:33.293424 139820246591360 nn_ops.py:4224] Large dropout rate: 0.6 (>0.5). In TensorFlow 2.x, dropout() uses dropout rate instead of keep_prob. Please ensure that this is intended.\n",
      "W0701 06:19:33.521520 139820246591360 nn_ops.py:4224] Large dropout rate: 0.6 (>0.5). In TensorFlow 2.x, dropout() uses dropout rate instead of keep_prob. Please ensure that this is intended.\n"
     ]
    },
    {
     "name": "stdout",
     "output_type": "stream",
     "text": [
      "Train on 4067 samples, validate on 1560 samples\n",
      "Epoch 1/30\n",
      "4067/4067 [==============================] - 3s 790us/step - loss: 0.6028 - acc: 0.7829 - val_loss: 0.3360 - val_acc: 0.8885\n",
      "Epoch 2/30\n",
      "4067/4067 [==============================] - 2s 473us/step - loss: 0.3580 - acc: 0.8766 - val_loss: 0.3322 - val_acc: 0.8731\n",
      "Epoch 3/30\n",
      "4067/4067 [==============================] - 2s 481us/step - loss: 0.3004 - acc: 0.8913 - val_loss: 0.3130 - val_acc: 0.8833\n",
      "Epoch 4/30\n",
      "4067/4067 [==============================] - 2s 484us/step - loss: 0.2920 - acc: 0.8945 - val_loss: 0.2713 - val_acc: 0.8846\n",
      "Epoch 5/30\n",
      "4067/4067 [==============================] - 2s 489us/step - loss: 0.2503 - acc: 0.9063 - val_loss: 0.2819 - val_acc: 0.8929\n",
      "Epoch 6/30\n",
      "4067/4067 [==============================] - 2s 487us/step - loss: 0.2617 - acc: 0.9063 - val_loss: 0.2992 - val_acc: 0.8872\n",
      "Epoch 7/30\n",
      "4067/4067 [==============================] - 2s 480us/step - loss: 0.2467 - acc: 0.9115 - val_loss: 0.2784 - val_acc: 0.8853\n",
      "Epoch 8/30\n",
      "4067/4067 [==============================] - 2s 477us/step - loss: 0.2199 - acc: 0.9218 - val_loss: 0.3145 - val_acc: 0.8949\n",
      "Epoch 9/30\n",
      "4067/4067 [==============================] - 2s 487us/step - loss: 0.2445 - acc: 0.9159 - val_loss: 0.3321 - val_acc: 0.8859\n",
      "Epoch 10/30\n",
      "4067/4067 [==============================] - 2s 486us/step - loss: 0.2397 - acc: 0.9201 - val_loss: 0.2860 - val_acc: 0.8981\n",
      "Epoch 11/30\n",
      "4067/4067 [==============================] - 2s 480us/step - loss: 0.2106 - acc: 0.9257 - val_loss: 0.3280 - val_acc: 0.9000\n",
      "Epoch 12/30\n",
      "4067/4067 [==============================] - 2s 484us/step - loss: 0.2209 - acc: 0.9230 - val_loss: 0.3024 - val_acc: 0.8859\n",
      "Epoch 13/30\n",
      "4067/4067 [==============================] - 2s 482us/step - loss: 0.2122 - acc: 0.9216 - val_loss: 0.3362 - val_acc: 0.9045\n",
      "Epoch 14/30\n",
      "4067/4067 [==============================] - 2s 482us/step - loss: 0.1993 - acc: 0.9208 - val_loss: 0.3058 - val_acc: 0.8891\n",
      "Epoch 15/30\n",
      "4067/4067 [==============================] - 2s 484us/step - loss: 0.1985 - acc: 0.9297 - val_loss: 0.3626 - val_acc: 0.8859\n",
      "Epoch 16/30\n",
      "4067/4067 [==============================] - 2s 478us/step - loss: 0.2100 - acc: 0.9221 - val_loss: 0.2988 - val_acc: 0.8846\n",
      "Epoch 17/30\n",
      "4067/4067 [==============================] - 2s 483us/step - loss: 0.2042 - acc: 0.9302 - val_loss: 0.3545 - val_acc: 0.8853\n",
      "Epoch 18/30\n",
      "4067/4067 [==============================] - 2s 481us/step - loss: 0.1975 - acc: 0.9316 - val_loss: 0.3939 - val_acc: 0.8891\n",
      "Epoch 19/30\n",
      "4067/4067 [==============================] - 2s 485us/step - loss: 0.1975 - acc: 0.9309 - val_loss: 0.3347 - val_acc: 0.8782\n",
      "Epoch 20/30\n",
      "4067/4067 [==============================] - 2s 480us/step - loss: 0.2113 - acc: 0.9267 - val_loss: 0.3083 - val_acc: 0.8910\n",
      "Epoch 21/30\n",
      "4067/4067 [==============================] - 2s 482us/step - loss: 0.2058 - acc: 0.9282 - val_loss: 0.3573 - val_acc: 0.8776\n",
      "Epoch 22/30\n",
      "4067/4067 [==============================] - 2s 467us/step - loss: 0.2125 - acc: 0.9316 - val_loss: 0.3188 - val_acc: 0.8994\n",
      "Epoch 23/30\n",
      "4067/4067 [==============================] - 2s 472us/step - loss: 0.1958 - acc: 0.9348 - val_loss: 0.2981 - val_acc: 0.8987\n",
      "Epoch 24/30\n",
      "4067/4067 [==============================] - 2s 480us/step - loss: 0.1866 - acc: 0.9321 - val_loss: 0.3389 - val_acc: 0.8885\n",
      "Epoch 25/30\n",
      "4067/4067 [==============================] - 2s 473us/step - loss: 0.1887 - acc: 0.9380 - val_loss: 0.3231 - val_acc: 0.8968\n",
      "Epoch 26/30\n",
      "4067/4067 [==============================] - 2s 476us/step - loss: 0.2002 - acc: 0.9334 - val_loss: 0.2940 - val_acc: 0.9058\n",
      "Epoch 27/30\n",
      "4067/4067 [==============================] - 2s 491us/step - loss: 0.1747 - acc: 0.9358 - val_loss: 0.2798 - val_acc: 0.9071\n",
      "Epoch 28/30\n",
      "4067/4067 [==============================] - 2s 475us/step - loss: 0.1768 - acc: 0.9373 - val_loss: 0.3518 - val_acc: 0.8814\n",
      "Epoch 29/30\n",
      "4067/4067 [==============================] - 2s 472us/step - loss: 0.1716 - acc: 0.9388 - val_loss: 0.4261 - val_acc: 0.8962\n",
      "Epoch 30/30\n",
      "4067/4067 [==============================] - 2s 474us/step - loss: 0.1922 - acc: 0.9343 - val_loss: 0.2905 - val_acc: 0.9103\n"
     ]
    },
    {
     "data": {
      "text/plain": [
       "<keras.callbacks.History at 0x7f29fe350b70>"
      ]
     },
     "execution_count": 14,
     "metadata": {
      "tags": []
     },
     "output_type": "execute_result"
    }
   ],
   "source": [
    "  model_stat = Sequential()\n",
    "  model_stat.add(Conv1D(filters=64, kernel_size=5,padding='same', activation='relu',kernel_initializer='he_uniform',input_shape=(128,9)))\n",
    "  model_stat.add(Conv1D(filters=32, kernel_size=3,padding='same', activation='relu',kernel_initializer='he_uniform'))\n",
    "  model_stat.add(Dropout(0.6))\n",
    "  model_stat.add(MaxPooling1D(pool_size=1,strides=1))\n",
    "\n",
    "  model_stat.add(Flatten())\n",
    "  model_stat.add(Dense(64, activation='relu',kernel_initializer='he_uniform'))\n",
    "  model_stat.add(BatchNormalization()) \n",
    "  model_stat.add(Dropout(0.6))\n",
    "\n",
    "  model_stat.add(Dense(32, activation='relu',kernel_initializer='he_uniform'))\n",
    "  model_stat.add(BatchNormalization()) \n",
    "  model_stat.add(Dropout(0.6))\n",
    "\n",
    "  model_stat.add(Dense(3, activation='softmax'))\n",
    "\n",
    "  model_stat.compile(loss='categorical_crossentropy', optimizer='rmsprop', metrics=['accuracy'])\n",
    "  model_stat.fit(X_train_stat,y_train_stat, epochs=30, batch_size=16,validation_data=(X_test_stat, y_test_stat))\n"
   ]
  },
  {
   "cell_type": "code",
   "execution_count": 21,
   "metadata": {
    "colab": {
     "base_uri": "https://localhost:8080/",
     "height": 68
    },
    "colab_type": "code",
    "id": "62GTCL86Kvh2",
    "outputId": "9eedee18-1050-4a5f-cfa6-16077823d5b0"
   },
   "outputs": [
    {
     "name": "stdout",
     "output_type": "stream",
     "text": [
      "[[537   0   0]\n",
      " [  5 424  62]\n",
      " [  0  73 459]]\n"
     ]
    }
   ],
   "source": [
    "activites_stat = {\n",
    "    0: 'SITTING',\n",
    "    1: 'STANDING',\n",
    "    2: 'LAYING',\n",
    "}\n",
    "\n",
    "# Confusion Matrix\n",
    "print(confusion_matrix_cnn(y_test_stat, model_stat.predict(X_test_stat),activites_stat))"
   ]
  },
  {
   "cell_type": "code",
   "execution_count": 23,
   "metadata": {
    "colab": {
     "base_uri": "https://localhost:8080/",
     "height": 437
    },
    "colab_type": "code",
    "id": "u_G9Pt4vLn1L",
    "outputId": "f9959652-fc38-4f7d-a3c1-f3a954be5555"
   },
   "outputs": [
    {
     "data": {
      "image/png": "[encoded data removed]",
      "text/plain": [
       "<Figure size 432x432 with 2 Axes>"
      ]
     },
     "metadata": {
      "tags": []
     },
     "output_type": "display_data"
    }
   ],
   "source": [
    "plt.figure(figsize=(6,6))\n",
    "cm = confusion_matrix_cnn(y_test_stat, model_stat.predict(X_test_stat),activites_stat)\n",
    "plot_confusion_matrix(cm, classes=['SITTING','STANDING','LAYING'], normalize=True, title='Normalized confusion matrix', cmap = plt.cm.Blues)\n",
    "plt.show()"
   ]
  },
  {
   "cell_type": "code",
   "execution_count": 0,
   "metadata": {
    "colab": {},
    "colab_type": "code",
    "id": "6VKSqUvU_v9C"
   },
   "outputs": [],
   "source": [
    "model_stat.save('drive/My Drive/Data/Human_activity_recognition/model_stat_class.h5')"
   ]
  },
  {
   "cell_type": "markdown",
   "metadata": {
    "colab_type": "text",
    "id": "_BQgnibMFG3y"
   },
   "source": [
    "## Output For Dynamic Activities\n",
    "\n"
   ]
  },
  {
   "cell_type": "code",
   "execution_count": 0,
   "metadata": {
    "colab": {},
    "colab_type": "code",
    "id": "IP7Py_I_FK2c"
   },
   "outputs": [],
   "source": [
    "def load_op_dyn(incoming):\n",
    "  \"\"\"\n",
    "    The objective that we are trying to predict is a integer, from 1 to 6,\n",
    "    that represents a human activity. We return a binary representation of \n",
    "    every sample objective as a 6 bits vector using One Hot Encoding\n",
    "    (https://pandas.pydata.org/pandas-docs/stable/generated/pandas.get_dummies.html)\n",
    "    \"\"\"\n",
    "  path=\"drive/My Drive/Data/Human_activity_recognition\" +'/'+ incoming +'.txt'\n",
    "  \n",
    "  df=pd.read_csv(path, delim_whitespace=True, header=None)[0]\n",
    "  df_subset=df<=3\n",
    "  df=df[df_subset]\n",
    "  return pd.get_dummies(df).as_matrix(),df_subset"
   ]
  },
  {
   "cell_type": "code",
   "execution_count": 26,
   "metadata": {
    "colab": {
     "base_uri": "https://localhost:8080/",
     "height": 85
    },
    "colab_type": "code",
    "id": "50xlSLtMFOy5",
    "outputId": "e85f977e-d419-4828-eecc-a622e34b94ec"
   },
   "outputs": [
    {
     "name": "stdout",
     "output_type": "stream",
     "text": [
      "(3285, 3)\n",
      "(1387, 3)\n",
      "(1387, 128, 9)\n",
      "(3285, 128, 9)\n"
     ]
    }
   ],
   "source": [
    "y_train_dyn,x_train_size=load_op_dyn('y_train')\n",
    "y_test_dyn,x_test_size=load_op_dyn('y_test')\n",
    "X_train_dyn=X_train[x_train_size]\n",
    "X_test_dyn=X_test[x_test_size]\n",
    "print(y_train_dyn.shape)\n",
    "print(y_test_dyn.shape)\n",
    "print(X_test_dyn.shape)\n",
    "print(X_train_dyn.shape)\n"
   ]
  },
  {
   "cell_type": "markdown",
   "metadata": {
    "colab_type": "text",
    "id": "U7IS3w_2-QS5"
   },
   "source": [
    "## Model for Dynamic "
   ]
  },
  {
   "cell_type": "code",
   "execution_count": 27,
   "metadata": {
    "colab": {
     "base_uri": "https://localhost:8080/",
     "height": 1000
    },
    "colab_type": "code",
    "id": "FJg36DrT_US-",
    "outputId": "fc363250-a9cb-47e0-f9a8-c66d3eb3e28a"
   },
   "outputs": [
    {
     "name": "stdout",
     "output_type": "stream",
     "text": [
      "Train on 3285 samples, validate on 1387 samples\n",
      "Epoch 1/40\n",
      "3285/3285 [==============================] - 3s 964us/step - loss: 1.0069 - acc: 0.5884 - val_loss: 0.5452 - val_acc: 0.8147\n",
      "Epoch 2/40\n",
      "3285/3285 [==============================] - 2s 502us/step - loss: 0.3913 - acc: 0.8487 - val_loss: 0.3860 - val_acc: 0.8443\n",
      "Epoch 3/40\n",
      "3285/3285 [==============================] - 2s 530us/step - loss: 0.1906 - acc: 0.9339 - val_loss: 0.2030 - val_acc: 0.9322\n",
      "Epoch 4/40\n",
      "3285/3285 [==============================] - 2s 519us/step - loss: 0.1180 - acc: 0.9647 - val_loss: 0.1442 - val_acc: 0.9719\n",
      "Epoch 5/40\n",
      "3285/3285 [==============================] - 2s 511us/step - loss: 0.0993 - acc: 0.9735 - val_loss: 0.1052 - val_acc: 0.9755\n",
      "Epoch 6/40\n",
      "3285/3285 [==============================] - 2s 522us/step - loss: 0.0806 - acc: 0.9781 - val_loss: 0.0877 - val_acc: 0.9798\n",
      "Epoch 7/40\n",
      "3285/3285 [==============================] - 2s 514us/step - loss: 0.0834 - acc: 0.9750 - val_loss: 0.1645 - val_acc: 0.9567\n",
      "Epoch 8/40\n",
      "3285/3285 [==============================] - 2s 509us/step - loss: 0.0563 - acc: 0.9848 - val_loss: 0.0635 - val_acc: 0.9776\n",
      "Epoch 9/40\n",
      "3285/3285 [==============================] - 2s 514us/step - loss: 0.0557 - acc: 0.9845 - val_loss: 0.0869 - val_acc: 0.9733\n",
      "Epoch 10/40\n",
      "3285/3285 [==============================] - 2s 524us/step - loss: 0.0997 - acc: 0.9689 - val_loss: 0.1279 - val_acc: 0.9567\n",
      "Epoch 11/40\n",
      "3285/3285 [==============================] - 2s 518us/step - loss: 0.0538 - acc: 0.9866 - val_loss: 0.1257 - val_acc: 0.9762\n",
      "Epoch 12/40\n",
      "3285/3285 [==============================] - 2s 527us/step - loss: 0.0451 - acc: 0.9884 - val_loss: 0.1052 - val_acc: 0.9690\n",
      "Epoch 13/40\n",
      "3285/3285 [==============================] - 2s 521us/step - loss: 0.0485 - acc: 0.9860 - val_loss: 0.1156 - val_acc: 0.9733\n",
      "Epoch 14/40\n",
      "3285/3285 [==============================] - 2s 521us/step - loss: 0.0440 - acc: 0.9872 - val_loss: 0.1273 - val_acc: 0.9798\n",
      "Epoch 15/40\n",
      "3285/3285 [==============================] - 2s 520us/step - loss: 0.0405 - acc: 0.9893 - val_loss: 0.3846 - val_acc: 0.9221\n",
      "Epoch 16/40\n",
      "3285/3285 [==============================] - 2s 525us/step - loss: 0.1037 - acc: 0.9686 - val_loss: 0.1427 - val_acc: 0.9697\n",
      "Epoch 17/40\n",
      "3285/3285 [==============================] - 2s 513us/step - loss: 0.0302 - acc: 0.9924 - val_loss: 0.0951 - val_acc: 0.9791\n",
      "Epoch 18/40\n",
      "3285/3285 [==============================] - 2s 520us/step - loss: 0.0376 - acc: 0.9912 - val_loss: 0.1619 - val_acc: 0.9769\n",
      "Epoch 19/40\n",
      "3285/3285 [==============================] - 2s 522us/step - loss: 0.0423 - acc: 0.9890 - val_loss: 0.1130 - val_acc: 0.9776\n",
      "Epoch 20/40\n",
      "3285/3285 [==============================] - 2s 514us/step - loss: 0.0327 - acc: 0.9896 - val_loss: 0.1080 - val_acc: 0.9762\n",
      "Epoch 21/40\n",
      "3285/3285 [==============================] - 2s 513us/step - loss: 0.0182 - acc: 0.9957 - val_loss: 0.1388 - val_acc: 0.9791\n",
      "Epoch 22/40\n",
      "3285/3285 [==============================] - 2s 516us/step - loss: 0.0172 - acc: 0.9960 - val_loss: 0.1073 - val_acc: 0.9618\n",
      "Epoch 23/40\n",
      "3285/3285 [==============================] - 2s 520us/step - loss: 0.0302 - acc: 0.9933 - val_loss: 0.1021 - val_acc: 0.9791\n",
      "Epoch 24/40\n",
      "3285/3285 [==============================] - 2s 516us/step - loss: 0.0144 - acc: 0.9957 - val_loss: 0.1063 - val_acc: 0.9805\n",
      "Epoch 25/40\n",
      "3285/3285 [==============================] - 2s 504us/step - loss: 0.0142 - acc: 0.9954 - val_loss: 0.1151 - val_acc: 0.9748\n",
      "Epoch 26/40\n",
      "3285/3285 [==============================] - 2s 496us/step - loss: 0.0227 - acc: 0.9933 - val_loss: 0.1273 - val_acc: 0.9712\n",
      "Epoch 27/40\n",
      "3285/3285 [==============================] - 2s 504us/step - loss: 0.0286 - acc: 0.9933 - val_loss: 0.1735 - val_acc: 0.9697\n",
      "Epoch 28/40\n",
      "3285/3285 [==============================] - 2s 509us/step - loss: 0.0378 - acc: 0.9903 - val_loss: 0.1687 - val_acc: 0.9640\n",
      "Epoch 29/40\n",
      "3285/3285 [==============================] - 2s 520us/step - loss: 0.0268 - acc: 0.9933 - val_loss: 0.1366 - val_acc: 0.9712\n",
      "Epoch 30/40\n",
      "3285/3285 [==============================] - 2s 522us/step - loss: 0.0448 - acc: 0.9887 - val_loss: 0.1442 - val_acc: 0.9719\n",
      "Epoch 31/40\n",
      "3285/3285 [==============================] - 2s 518us/step - loss: 0.0121 - acc: 0.9960 - val_loss: 0.2832 - val_acc: 0.9524\n",
      "Epoch 32/40\n",
      "3285/3285 [==============================] - 2s 518us/step - loss: 0.0231 - acc: 0.9945 - val_loss: 0.1148 - val_acc: 0.9813\n",
      "Epoch 33/40\n",
      "3285/3285 [==============================] - 2s 509us/step - loss: 0.0384 - acc: 0.9887 - val_loss: 0.0535 - val_acc: 0.9820\n",
      "Epoch 34/40\n",
      "3285/3285 [==============================] - 2s 498us/step - loss: 0.0258 - acc: 0.9930 - val_loss: 0.1186 - val_acc: 0.9776\n",
      "Epoch 35/40\n",
      "3285/3285 [==============================] - 2s 520us/step - loss: 0.0113 - acc: 0.9979 - val_loss: 0.1507 - val_acc: 0.9784\n",
      "Epoch 36/40\n",
      "3285/3285 [==============================] - 2s 517us/step - loss: 0.0195 - acc: 0.9945 - val_loss: 0.0963 - val_acc: 0.9740\n",
      "Epoch 37/40\n",
      "3285/3285 [==============================] - 2s 511us/step - loss: 0.0134 - acc: 0.9970 - val_loss: 0.1837 - val_acc: 0.9668\n",
      "Epoch 38/40\n",
      "3285/3285 [==============================] - 2s 518us/step - loss: 0.0193 - acc: 0.9963 - val_loss: 0.1628 - val_acc: 0.9661\n",
      "Epoch 39/40\n",
      "3285/3285 [==============================] - 2s 509us/step - loss: 0.0209 - acc: 0.9951 - val_loss: 0.1898 - val_acc: 0.9813\n",
      "Epoch 40/40\n",
      "3285/3285 [==============================] - 2s 522us/step - loss: 0.0222 - acc: 0.9948 - val_loss: 0.2086 - val_acc: 0.9798\n",
      "1387/1387 [==============================] - 0s 137us/step\n"
     ]
    }
   ],
   "source": [
    "  model_dyn = Sequential()\n",
    "  model_dyn.add(Conv1D(filters=64, kernel_size=5,padding='same', activation='relu',kernel_initializer='he_uniform',input_shape=(128,9)))\n",
    "  model_dyn.add(Conv1D(filters=32, kernel_size=5,padding='same', activation='relu',kernel_initializer='he_uniform'))\n",
    "  model_dyn.add(Dropout(0.5))\n",
    "  model_dyn.add(MaxPooling1D(pool_size=1,strides=1))\n",
    "\n",
    "  model_dyn.add(Flatten())\n",
    "  model_dyn.add(Dense(64, activation='relu',kernel_initializer='he_uniform'))\n",
    "  model_dyn.add(BatchNormalization()) \n",
    "  model_dyn.add(Dropout(0.5))\n",
    "\n",
    "  model_dyn.add(Dense(32, activation='relu',kernel_initializer='he_uniform'))\n",
    "  model_dyn.add(BatchNormalization()) \n",
    "  model_dyn.add(Dropout(0.5))\n",
    "\n",
    "  model_dyn.add(Dense(3, activation='softmax'))\n",
    "\n",
    "  model_dyn.compile(loss='categorical_crossentropy', optimizer='adam', metrics=['accuracy'])\n",
    "  model_dyn.fit(X_train_dyn,y_train_dyn, epochs=40, batch_size=16,validation_data=(X_test_dyn, y_test_dyn),verbose=1)\n",
    "\n",
    "  #Evaluate the model_dyn \n",
    "  score = model_dyn.evaluate(X_test_dyn, y_test_dyn)\n"
   ]
  },
  {
   "cell_type": "code",
   "execution_count": 29,
   "metadata": {
    "colab": {
     "base_uri": "https://localhost:8080/",
     "height": 68
    },
    "colab_type": "code",
    "id": "1m1I3PRhHtcZ",
    "outputId": "c5867ab0-c043-47ab-c9da-f6f360c3de0f"
   },
   "outputs": [
    {
     "name": "stdout",
     "output_type": "stream",
     "text": [
      "[[1226    0    0]\n",
      " [   0  986    0]\n",
      " [   0    0 1073]]\n"
     ]
    }
   ],
   "source": [
    "from sklearn import metrics\n",
    "activities_dyn = {\n",
    "    0: 'WALKING',\n",
    "    1: 'WALKING_UPSTAIRS',\n",
    "    2: 'WALKING_DOWNSTAIRS',\n",
    "}\n",
    "\n",
    "\n",
    "# Confusion Matrix\n",
    "print(confusion_matrix_cnn(y_train_dyn, model_dyn.predict(X_train_dyn),activities_dyn))"
   ]
  },
  {
   "cell_type": "code",
   "execution_count": 30,
   "metadata": {
    "colab": {
     "base_uri": "https://localhost:8080/",
     "height": 444
    },
    "colab_type": "code",
    "id": "w9mDnGP-KfYf",
    "outputId": "37af5157-874f-4369-8b44-16910d87eaba"
   },
   "outputs": [
    {
     "data": {
      "image/png": "[encoded data removed]",
      "text/plain": [
       "<Figure size 432x432 with 2 Axes>"
      ]
     },
     "metadata": {
      "tags": []
     },
     "output_type": "display_data"
    }
   ],
   "source": [
    "plt.figure(figsize=(6,6))\n",
    "cm = confusion_matrix_cnn(y_train_dyn, model_dyn.predict(X_train_dyn),activities_dyn)\n",
    "plot_confusion_matrix(cm, classes=['WALKING','WALKING_UPSTAIRS','WALKING_DOWNSTAIRS'], \n",
    "                      normalize=True, title='Normalized confusion matrix', cmap = plt.cm.Blues)\n",
    "plt.show()"
   ]
  },
  {
   "cell_type": "code",
   "execution_count": 0,
   "metadata": {
    "colab": {},
    "colab_type": "code",
    "id": "SkFAS7FNFe6f"
   },
   "outputs": [],
   "source": [
    "model_dyn.save('drive/My Drive/Data/Human_activity_recognition/model_dyn_class.h5')"
   ]
  },
  {
   "cell_type": "markdown",
   "metadata": {
    "colab_type": "text",
    "id": "yHXrq_J2uDy6"
   },
   "source": [
    "## Final Prediction pipeline"
   ]
  },
  {
   "cell_type": "code",
   "execution_count": 0,
   "metadata": {
    "colab": {},
    "colab_type": "code",
    "id": "dhQdBLkfuKHT"
   },
   "outputs": [],
   "source": [
    "from keras.models import load_model\n",
    "import pickle\n",
    "model_2class = load_model('drive/My Drive/Data/Human_activity_recognition/model_2class.h5')\n",
    "model_static = load_model('drive/My Drive/Data/Human_activity_recognition/model_stat_class.h5')\n",
    "model_dynamic = load_model('drive/My Drive/Data/Human_activity_recognition/model_dyn_class.h5')"
   ]
  },
  {
   "cell_type": "code",
   "execution_count": 0,
   "metadata": {
    "colab": {},
    "colab_type": "code",
    "id": "XzavYfjivStt"
   },
   "outputs": [],
   "source": [
    " ##predicting whether dynamic or static\n",
    "predict_2class = model_2class.predict(X_test)\n",
    "Y_pred_2class =  np.argmax(predict_2class, axis=1)\n",
    "#static data filter\n",
    "X_static = X_test[Y_pred_2class==1]\n",
    "#dynamic data filter\n",
    "X_dynamic = X_test[Y_pred_2class==0]"
   ]
  },
  {
   "cell_type": "code",
   "execution_count": 0,
   "metadata": {
    "colab": {},
    "colab_type": "code",
    "id": "MoGl0JlTv8rJ"
   },
   "outputs": [],
   "source": [
    "#predicting static activities\n",
    "predict_static = model_static.predict(X_static)\n",
    "predict_static = np.argmax(predict_static,axis=1)\n",
    "predict_static = predict_static + 4"
   ]
  },
  {
   "cell_type": "code",
   "execution_count": 0,
   "metadata": {
    "colab": {},
    "colab_type": "code",
    "id": "I-46yoDN3kjX"
   },
   "outputs": [],
   "source": [
    "#predicting dynamic activites\n",
    "predict_dynamic = model_dynamic.predict(X_dynamic)\n",
    "predict_dynamic = np.argmax(predict_dynamic,axis=1)\n",
    "predict_dynamic = predict_dynamic + 1"
   ]
  },
  {
   "cell_type": "code",
   "execution_count": 0,
   "metadata": {
    "colab": {},
    "colab_type": "code",
    "id": "b5QnKKUu363w"
   },
   "outputs": [],
   "source": [
    "#appending final output to one list in the same sequence of input data\n",
    "i,j = 0,0 \n",
    "final_pred = []\n",
    "for mask in Y_pred_2class:\n",
    "    if mask == 1:\n",
    "        final_pred.append(predict_static[i])\n",
    "        i = i + 1\n",
    "    else:\n",
    "        final_pred.append(predict_dynamic[j])\n",
    "        j = j + 1 "
   ]
  },
  {
   "cell_type": "markdown",
   "metadata": {
    "colab_type": "text",
    "id": "maXSpJMc4Ln5"
   },
   "source": [
    "## Evaluate Predictions"
   ]
  },
  {
   "cell_type": "code",
   "execution_count": 60,
   "metadata": {
    "colab": {
     "base_uri": "https://localhost:8080/",
     "height": 34
    },
    "colab_type": "code",
    "id": "ubHopbcDGRWb",
    "outputId": "2d54af9c-3c5e-47de-a146-8b1a74d628c2"
   },
   "outputs": [
    {
     "name": "stdout",
     "output_type": "stream",
     "text": [
      "Accuracy of test data 0.9419748897183576\n"
     ]
    }
   ],
   "source": [
    "##accuracy of test\n",
    "from sklearn.metrics import accuracy_score\n",
    "print('Accuracy of test data',accuracy_score(y_test,final_pred))\n"
   ]
  },
  {
   "cell_type": "code",
   "execution_count": 61,
   "metadata": {
    "colab": {
     "base_uri": "https://localhost:8080/",
     "height": 119
    },
    "colab_type": "code",
    "id": "bt0UomqsGXcq",
    "outputId": "d9acc6a7-09e3-499c-81a8-2cadd9dce0cb"
   },
   "outputs": [
    {
     "data": {
      "text/plain": [
       "array([[493,   0,   3,   0,   0,   0],\n",
       "       [  0, 446,  25,   0,   0,   0],\n",
       "       [  0,   0, 420,   0,   0,   0],\n",
       "       [  0,   2,   0, 424,  60,   5],\n",
       "       [  0,   3,   0,  73, 456,   0],\n",
       "       [  0,   0,   0,   0,   0, 537]])"
      ]
     },
     "execution_count": 61,
     "metadata": {
      "tags": []
     },
     "output_type": "execute_result"
    }
   ],
   "source": [
    "\n",
    "#confusion metric\n",
    "cm = confusion_matrix(y_test, final_pred,labels=range(1,7))\n",
    "cm"
   ]
  },
  {
   "cell_type": "code",
   "execution_count": 0,
   "metadata": {
    "colab": {},
    "colab_type": "code",
    "id": "vw7np_r5Go_4"
   },
   "outputs": [],
   "source": []
  }
 ],
 "metadata": {
  "accelerator": "GPU",
  "colab": {
   "collapsed_sections": [],
   "name": "ConquerDivide_HAR.ipynb",
   "provenance": [],
   "version": "0.3.2"
  },
  "kernelspec": {
   "display_name": "Python 3",
   "language": "python",
   "name": "python3"
  },
  "language_info": {
   "codemirror_mode": {
    "name": "ipython",
    "version": 3
   },
   "file_extension": ".py",
   "mimetype": "text/x-python",
   "name": "python",
   "nbconvert_exporter": "python",
   "pygments_lexer": "ipython3",
   "version": "3.6.5"
  }
 },
 "nbformat": 4,
 "nbformat_minor": 1
}
